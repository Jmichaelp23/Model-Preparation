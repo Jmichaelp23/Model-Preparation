{
 "cells": [
  {
   "cell_type": "markdown",
   "metadata": {},
   "source": [
    "1.Consider the advantages and disadvantages of treating the RANK variable as categorical.\n",
    "If we treat rank as categorical, then we give up the information in the distances between the ranks and treat each rank as a seperate category with an ordinal relationship. In this sense, we lose some information (the meaning of the distances between the ranks). However, this may be advantageous in some cases."
   ]
  },
  {
   "cell_type": "markdown",
   "metadata": {},
   "source": [
    "2.What are the types of the following variables?\n",
    "* Age: It's a continuous ratio variable, but sometimes treating it as ordinal categorical variable also makes sense.\n",
    "* Salary: It's a continuous ratio variable.\n",
    "* Revenue: It's a continuous ratio variable.\n",
    "* Customer type: It's a nominal categorical variable.\n",
    "* Stock price: It's continuous ratio variable."
   ]
  },
  {
   "cell_type": "code",
   "execution_count": null,
   "metadata": {},
   "outputs": [],
   "source": []
  }
 ],
 "metadata": {
  "kernelspec": {
   "display_name": "Python 3",
   "language": "python",
   "name": "python3"
  },
  "language_info": {
   "codemirror_mode": {
    "name": "ipython",
    "version": 3
   },
   "file_extension": ".py",
   "mimetype": "text/x-python",
   "name": "python",
   "nbconvert_exporter": "python",
   "pygments_lexer": "ipython3",
   "version": "3.7.3"
  }
 },
 "nbformat": 4,
 "nbformat_minor": 2
}
